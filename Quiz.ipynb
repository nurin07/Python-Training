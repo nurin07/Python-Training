{
  "nbformat": 4,
  "nbformat_minor": 0,
  "metadata": {
    "colab": {
      "provenance": [],
      "authorship_tag": "ABX9TyMGk4qsFWx7hmF5JXgDyW6k",
      "include_colab_link": true
    },
    "kernelspec": {
      "name": "python3",
      "display_name": "Python 3"
    },
    "language_info": {
      "name": "python"
    }
  },
  "cells": [
    {
      "cell_type": "markdown",
      "metadata": {
        "id": "view-in-github",
        "colab_type": "text"
      },
      "source": [
        "<a href=\"https://colab.research.google.com/github/nurin07/Python-Training/blob/main/Quiz.ipynb\" target=\"_parent\"><img src=\"https://colab.research.google.com/assets/colab-badge.svg\" alt=\"Open In Colab\"/></a>"
      ]
    },
    {
      "cell_type": "code",
      "execution_count": null,
      "metadata": {
        "colab": {
          "base_uri": "https://localhost:8080/"
        },
        "id": "yY8v7OYsOWW3",
        "outputId": "2b3c61ce-1458-4e93-c525-2d9d3b3f62d5"
      },
      "outputs": [
        {
          "output_type": "stream",
          "name": "stdout",
          "text": [
            "Who is the main character (Traveler) in Genshin Impact?\n",
            "1. Lumine\n",
            "2. Paimon\n",
            "3. Venti\n",
            "4. None of the above\n",
            "Enter your answer (1, 2, 3, 4): 1\n",
            "Correct!\n",
            "Which region is known as the City of Freedom in Genshin Impact?\n",
            "1. Liyue Harbor\n",
            "2. Inazuma\n",
            "3. Sumeru City\n",
            "4. Mondstadt\n",
            "Enter your answer (1, 2, 3, 4): 4\n",
            "Correct!\n",
            "What is the name of the region in Genshin Impact that is ruled by the Electro Archon?\n",
            "1. Mondstadt\n",
            "2. Inazuma\n",
            "3. Liyue\n",
            "4. Sumeru\n",
            "Enter your answer (1, 2, 3, 4): 2\n",
            "Correct!\n",
            "Who is not an archon?\n",
            "1. Zongli\n",
            "2. Nahida\n",
            "3. Furina\n",
            "4. Raiden\n",
            "Enter your answer (1, 2, 3, 4): 3\n",
            "Correct!\n",
            "Your final score is: 4/4\n"
          ]
        }
      ],
      "source": [
        "# Define a list of questions and their corresponding answers\n",
        "questions = [\n",
        "    {\n",
        "        \"question\": \"Who is the main character (Traveler) in Genshin Impact?\",\n",
        "        \"options\": [\"Lumine\", \"Paimon\", \"Venti\", \"None of the above\"],\n",
        "        \"answer\": \"Lumine\"\n",
        "    },\n",
        "    {\n",
        "        \"question\": \"Which region is known as the City of Freedom in Genshin Impact?\",\n",
        "        \"options\": [\"Liyue Harbor\", \"Inazuma\", \"Sumeru City\", \"Mondstadt\"],\n",
        "        \"answer\": \"Mondstadt\"\n",
        "    },\n",
        "    {\n",
        "        \"question\": \"What is the name of the region in Genshin Impact that is ruled by the Electro Archon?\",\n",
        "        \"options\": [\"Mondstadt\", \"Inazuma\", \"Liyue\", \"Sumeru\"],\n",
        "        \"answer\": \"Inazuma\"\n",
        "    },\n",
        "    {\n",
        "        \"question\": \"Who is not an archon?\",\n",
        "        \"options\": [\"Zongli\", \"Nahida\", \"Furina\", \"Raiden\"],\n",
        "        \"answer\": \"Furina\"\n",
        "    }\n",
        "]\n",
        "\n",
        "# Initialize a variable to keep track of the player's score\n",
        "score = 0\n",
        "\n",
        "# Loop through each question and ask the player for their answer\n",
        "for question in questions:\n",
        "    print(question[\"question\"])\n",
        "    for i, option in enumerate(question[\"options\"], 1):\n",
        "        print(f\"{i}. {option}\")\n",
        "    player_answer = input(\"Enter your answer (1, 2, 3, 4): \")\n",
        "\n",
        "    # Check if the player's answer is correct\n",
        "    if player_answer == str(question[\"options\"].index(question[\"answer\"]) + 1):\n",
        "        print(\"Correct!\")\n",
        "        score += 1\n",
        "    else:\n",
        "        print(\"Incorrect!\")\n",
        "\n",
        "# Display the final score to the player\n",
        "print(f\"Your final score is: {score}/{len(questions)}\")\n"
      ]
    }
  ]
}