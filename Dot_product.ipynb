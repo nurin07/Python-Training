{
  "nbformat": 4,
  "nbformat_minor": 0,
  "metadata": {
    "colab": {
      "provenance": [],
      "authorship_tag": "ABX9TyNehNOGpLNA76mC/StcP0Ep",
      "include_colab_link": true
    },
    "kernelspec": {
      "name": "python3",
      "display_name": "Python 3"
    },
    "language_info": {
      "name": "python"
    }
  },
  "cells": [
    {
      "cell_type": "markdown",
      "metadata": {
        "id": "view-in-github",
        "colab_type": "text"
      },
      "source": [
        "<a href=\"https://colab.research.google.com/github/nurin07/Python-Training/blob/main/Dot_product.ipynb\" target=\"_parent\"><img src=\"https://colab.research.google.com/assets/colab-badge.svg\" alt=\"Open In Colab\"/></a>"
      ]
    },
    {
      "cell_type": "code",
      "source": [
        "import numpy as np\n",
        "import json\n",
        "\n",
        "def play_game(rounds=5):\n",
        "    player_name = input(\"Enter your name: \")\n",
        "    player_score = 0\n",
        "    for _ in range(rounds):\n",
        "        array1 = np.random.randint(1, 10, size=(3, 2))\n",
        "        array2 = np.random.randint(1, 10, size=(2, 3))\n",
        "        result = np.dot(array1, array2)\n",
        "        guess = int(input(f\"What is the dot product of\\n{array1}\\nand\\n{array2}?\\n\"))\n",
        "        if guess == np.sum(result):\n",
        "            player_score += 1\n",
        "            print(\"Correct!\")\n",
        "        else:\n",
        "            print(f\"Incorrect! The correct answer is {np.sum(result)}.\")\n",
        "    player_info = {\"name\": player_name, \"score\": player_score}\n",
        "    with open(\"player_info.json\", \"w\") as file:\n",
        "        json.dump(player_info, file)\n",
        "\n",
        "# Play the game\n",
        "play_game()\n"
      ],
      "metadata": {
        "colab": {
          "base_uri": "https://localhost:8080/"
        },
        "id": "qBEqju5ptFg7",
        "outputId": "cc3b4e8c-965b-41eb-bcc1-168d3537ac3d"
      },
      "execution_count": null,
      "outputs": [
        {
          "name": "stdout",
          "output_type": "stream",
          "text": [
            "Enter your name: Nurin\n"
          ]
        }
      ]
    }
  ]
}